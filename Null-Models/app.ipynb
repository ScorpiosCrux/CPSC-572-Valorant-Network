{
 "cells": [
  {
   "cell_type": "markdown",
   "metadata": {},
   "source": [
    "# Create Null Models for our Valorant Network\n",
    "## Imports"
   ]
  },
  {
   "cell_type": "code",
   "execution_count": 1,
   "metadata": {},
   "outputs": [],
   "source": [
    "import numpy as np\n",
    "import networkx as nx\n",
    "import matplotlib.pyplot as plt\n",
    "import matplotlib as mpl\n",
    "import pandas as pd\n",
    "%matplotlib inline"
   ]
  },
  {
   "cell_type": "markdown",
   "metadata": {},
   "source": [
    "## Import the links"
   ]
  },
  {
   "cell_type": "code",
   "execution_count": 2,
   "metadata": {},
   "outputs": [
    {
     "data": {
      "text/html": [
       "<div>\n",
       "<style scoped>\n",
       "    .dataframe tbody tr th:only-of-type {\n",
       "        vertical-align: middle;\n",
       "    }\n",
       "\n",
       "    .dataframe tbody tr th {\n",
       "        vertical-align: top;\n",
       "    }\n",
       "\n",
       "    .dataframe thead th {\n",
       "        text-align: right;\n",
       "    }\n",
       "</style>\n",
       "<table border=\"1\" class=\"dataframe\">\n",
       "  <thead>\n",
       "    <tr style=\"text-align: right;\">\n",
       "      <th></th>\n",
       "      <th>Source</th>\n",
       "      <th>Target</th>\n",
       "      <th>Weight</th>\n",
       "    </tr>\n",
       "  </thead>\n",
       "  <tbody>\n",
       "    <tr>\n",
       "      <th>0</th>\n",
       "      <td>224</td>\n",
       "      <td>81</td>\n",
       "      <td>3</td>\n",
       "    </tr>\n",
       "    <tr>\n",
       "      <th>1</th>\n",
       "      <td>224</td>\n",
       "      <td>1578</td>\n",
       "      <td>3</td>\n",
       "    </tr>\n",
       "    <tr>\n",
       "      <th>2</th>\n",
       "      <td>224</td>\n",
       "      <td>2006</td>\n",
       "      <td>3</td>\n",
       "    </tr>\n",
       "    <tr>\n",
       "      <th>3</th>\n",
       "      <td>224</td>\n",
       "      <td>1715</td>\n",
       "      <td>3</td>\n",
       "    </tr>\n",
       "    <tr>\n",
       "      <th>4</th>\n",
       "      <td>224</td>\n",
       "      <td>104</td>\n",
       "      <td>3</td>\n",
       "    </tr>\n",
       "    <tr>\n",
       "      <th>...</th>\n",
       "      <td>...</td>\n",
       "      <td>...</td>\n",
       "      <td>...</td>\n",
       "    </tr>\n",
       "    <tr>\n",
       "      <th>24071</th>\n",
       "      <td>3674</td>\n",
       "      <td>3675</td>\n",
       "      <td>1</td>\n",
       "    </tr>\n",
       "    <tr>\n",
       "      <th>24072</th>\n",
       "      <td>3674</td>\n",
       "      <td>3681</td>\n",
       "      <td>1</td>\n",
       "    </tr>\n",
       "    <tr>\n",
       "      <th>24073</th>\n",
       "      <td>3674</td>\n",
       "      <td>3682</td>\n",
       "      <td>1</td>\n",
       "    </tr>\n",
       "    <tr>\n",
       "      <th>24074</th>\n",
       "      <td>3674</td>\n",
       "      <td>3683</td>\n",
       "      <td>1</td>\n",
       "    </tr>\n",
       "    <tr>\n",
       "      <th>24075</th>\n",
       "      <td>3674</td>\n",
       "      <td>3684</td>\n",
       "      <td>1</td>\n",
       "    </tr>\n",
       "  </tbody>\n",
       "</table>\n",
       "<p>24076 rows × 3 columns</p>\n",
       "</div>"
      ],
      "text/plain": [
       "       Source  Target  Weight\n",
       "0         224      81       3\n",
       "1         224    1578       3\n",
       "2         224    2006       3\n",
       "3         224    1715       3\n",
       "4         224     104       3\n",
       "...       ...     ...     ...\n",
       "24071    3674    3675       1\n",
       "24072    3674    3681       1\n",
       "24073    3674    3682       1\n",
       "24074    3674    3683       1\n",
       "24075    3674    3684       1\n",
       "\n",
       "[24076 rows x 3 columns]"
      ]
     },
     "execution_count": 2,
     "metadata": {},
     "output_type": "execute_result"
    }
   ],
   "source": [
    "df =  pd.read_csv(\"../Data/Main-Data/links.csv\")\n",
    "df"
   ]
  },
  {
   "cell_type": "markdown",
   "metadata": {},
   "source": [
    "## Create the graph using Network X"
   ]
  },
  {
   "cell_type": "code",
   "execution_count": 3,
   "metadata": {},
   "outputs": [
    {
     "name": "stdout",
     "output_type": "stream",
     "text": [
      "Nodes: 2642\n",
      "Edges: 22571\n"
     ]
    }
   ],
   "source": [
    "G = nx.from_pandas_edgelist(df, source='Source', target=\"Target\", edge_attr='Weight')\n",
    "\n",
    "print(\"Nodes: \" + str(G.number_of_nodes()))\n",
    "print(\"Edges: \" + str(G.number_of_edges()))"
   ]
  },
  {
   "cell_type": "markdown",
   "metadata": {},
   "source": [
    "## This code was taken from CPSC 572 Tutorials\n",
    "- Basically plots the degree distribution"
   ]
  },
  {
   "cell_type": "code",
   "execution_count": 4,
   "metadata": {},
   "outputs": [],
   "source": [
    "# Function to plot a degree distribution graph (P(k) vs k graph)\n",
    "def plot_degree_dist(G):\n",
    "    \n",
    "    degrees = [G.degree(n) for n in G.nodes()]\n",
    "    kmin = min(degrees)\n",
    "    kmax = max(degrees)\n",
    "    \n",
    "    if kmin>0:\n",
    "        bin_edges = np.logspace(np.log10(kmin), np.log10(kmax)+1, num=20)\n",
    "    else:\n",
    "        bin_edges = np.logspace(0, np.log10(kmax)+1, num=20)\n",
    "    density, _ = np.histogram(degrees, bins=bin_edges, density=True)\n",
    "\n",
    "    fig = plt.figure(figsize=(6,4))\n",
    "\n",
    "    log_be = np.log10(bin_edges)\n",
    "    x = 10**((log_be[1:] + log_be[:-1])/2)\n",
    "    plt.loglog(x, density, marker='o', linestyle='none')\n",
    "    plt.xlabel(r\"degree $k$\", fontsize=16)\n",
    "    plt.ylabel(r\"$P(k)$\", fontsize=16)\n",
    "\n",
    "    ax = plt.gca()\n",
    "    ax.spines['right'].set_visible(False)\n",
    "    ax.spines['top'].set_visible(False)\n",
    "    ax.yaxis.set_ticks_position('left')\n",
    "    ax.xaxis.set_ticks_position('bottom')"
   ]
  },
  {
   "cell_type": "markdown",
   "metadata": {},
   "source": [
    "## We plot the existing degree distribution"
   ]
  },
  {
   "cell_type": "code",
   "execution_count": 5,
   "metadata": {},
   "outputs": [
    {
     "data": {
      "image/png": "[encoded data removed]",
      "text/plain": [
       "<Figure size 600x400 with 1 Axes>"
      ]
     },
     "metadata": {},
     "output_type": "display_data"
    }
   ],
   "source": [
    "plot_degree_dist(G)"
   ]
  },
  {
   "cell_type": "markdown",
   "metadata": {},
   "source": [
    "## Calculate the average Clustering Coefficient and Shortest Path\n",
    "## We also get the largest partition here."
   ]
  },
  {
   "cell_type": "code",
   "execution_count": 6,
   "metadata": {},
   "outputs": [
    {
     "name": "stdout",
     "output_type": "stream",
     "text": [
      "Average Clustering Coefficient:  0.12099893881066047\n",
      "Average Shortest Path:  7.491242113581576\n",
      "Average Clustering Coefficient:  0.0\n",
      "Average Shortest Path:  1.4444444444444444\n",
      "Average Clustering Coefficient:  0.0\n",
      "Average Shortest Path:  2.745061728395062\n",
      "Average Clustering Coefficient:  0.0\n",
      "Average Shortest Path:  1.6323529411764706\n",
      "Average Clustering Coefficient:  0.0\n",
      "Average Shortest Path:  1.736842105263158\n",
      "Average Clustering Coefficient:  0.0\n",
      "Average Shortest Path:  1.736842105263158\n",
      "Average Clustering Coefficient:  0.0\n",
      "Average Shortest Path:  1.4444444444444444\n",
      "Average Clustering Coefficient:  0.0\n",
      "Average Shortest Path:  1.7142857142857142\n",
      "Largest Component Nodes: 2463\n",
      "Largest Component Links: 21767\n"
     ]
    }
   ],
   "source": [
    "largestComponent = None\n",
    "maxNodeSize = 0\n",
    "\n",
    "for C in (G.subgraph(c).copy() for c in nx.connected_components(G)):\n",
    "    averageSPT = nx.average_shortest_path_length(C, weight=True)\n",
    "    averageClustering = np.mean(list(nx.clustering(C).values()))\n",
    "    \n",
    "    if(C.number_of_nodes() > maxNodeSize):\n",
    "        largestComponent = C\n",
    "        maxNodeSize = C.number_of_nodes()\n",
    "\n",
    "    print(\"Average Clustering Coefficient: \", averageClustering)\n",
    "    print(\"Average Shortest Path: \", averageSPT)\n",
    "\n",
    "print(\"Largest Component Nodes: \" + str(largestComponent.number_of_nodes()))\n",
    "print(\"Largest Component Links: \" + str(largestComponent.number_of_edges()))\n"
   ]
  },
  {
   "cell_type": "markdown",
   "metadata": {},
   "source": [
    "## Calculations for ER graph\n",
    "- We get the number nodes for our largest component\n",
    "- We calculate the max links you can have with the nodes\n",
    "- We calculate our existing probability of connection"
   ]
  },
  {
   "cell_type": "code",
   "execution_count": 7,
   "metadata": {},
   "outputs": [],
   "source": [
    "GN = len(largestComponent.nodes())                  # Get the number of nodes in the largest Component\n",
    "max_links = GN*(GN-1)/2                                 # Max Links\n",
    "actual_links = len(largestComponent.edges())            # Number of links in largestComponent\n",
    "p = actual_links/max_links                                  # Calculate probability"
   ]
  },
  {
   "cell_type": "markdown",
   "metadata": {},
   "source": [
    "## Create 1000 instances of the ER graph\n",
    "- Here it says 10, but our Average and STD was calculated on a much faster computer for 1000 instances.\n",
    "- ETA: 1.5 hours for 1000 instances.\n",
    "- Estimated Runtime: 1.5 hours\n",
    "- Run time specs:\n",
    "    - 5.0Ghz 9th gen intel processor."
   ]
  },
  {
   "cell_type": "code",
   "execution_count": 8,
   "metadata": {},
   "outputs": [
    {
     "name": "stdout",
     "output_type": "stream",
     "text": [
      "0\n",
      "1\n",
      "2\n",
      "3\n",
      "4\n",
      "5\n",
      "6\n",
      "7\n",
      "8\n",
      "9\n",
      "ER - Average Clustering 0.0072045921946904175\n",
      "ER - Standard Deviation for Clustering 8.579504079540265e-05\n",
      "ER - Average Shortest Path 2.986931014431952\n",
      "ER - Standard Deviation for Shortest Path 0.003988508512998036\n"
     ]
    }
   ],
   "source": [
    "# ER Graph\n",
    "clustering_ER = []\n",
    "short_path_ER = []\n",
    "for i in range(10): # 1000 is better\n",
    "    erdos_renyi = nx.erdos_renyi_graph(GN, p, directed=True)                                    # Generate ER network with fixed num nodes and p\n",
    "    averageClustering_ER = np.mean(list(nx.clustering(erdos_renyi).values()))                   # Get the average clustering\n",
    "    if nx.is_weakly_connected(erdos_renyi) == True:                                                    # If ER is weakly connected (as long as it has 1 directed arrow)\n",
    "        averageShortestPath_ER = nx.average_shortest_path_length(erdos_renyi, weight=None)      #   Get the average shortest path\n",
    "        short_path_ER.append(averageShortestPath_ER)                                                # Append to list\n",
    "    clustering_ER.append(averageClustering_ER)                                                  # Append to list\n",
    "\n",
    "    print(i)        # For running status\n",
    "\n",
    "\n",
    "print(\"ER - Average Clustering \" + str(np.mean(clustering_ER)))\n",
    "print(\"ER - Standard Deviation for Clustering \" + str(np.std(clustering_ER)))\n",
    "\n",
    "print(\"ER - Average Shortest Path \" + str(np.mean(short_path_ER)))\n",
    "print(\"ER - Standard Deviation for Shortest Path \" + str(np.std(short_path_ER)))"
   ]
  },
  {
   "cell_type": "markdown",
   "metadata": {},
   "source": [
    "## Degree Preserving Random Networkd\n",
    "- We copy our largest component and perform edge swaps on those.\n",
    "- We ignore the weights of the graph as it was recommended to us by the professor.\n",
    "- Estimated Runtime: 1.5 hours for 1000 graphs\n",
    "- Run time specs:\n",
    "    - 5.0Ghz 9th gen intel processor."
   ]
  },
  {
   "cell_type": "code",
   "execution_count": 9,
   "metadata": {},
   "outputs": [
    {
     "name": "stdout",
     "output_type": "stream",
     "text": [
      "0\n",
      "1\n",
      "2\n",
      "3\n",
      "4\n",
      "5\n",
      "6\n",
      "7\n",
      "8\n",
      "9\n",
      "DP - Average Clustering 0.014049289337806711\n",
      "DP - Standard Deviation for Clustering 0.00031126848666035087\n",
      "DP - Average Shortest Path 2.9861662103601208\n",
      "DP - Standard Deviation for Shortest Path 0.0015527633103576731\n"
     ]
    }
   ],
   "source": [
    "DP = largestComponent.copy()                    # Copy the existing graph because we want to just swap edges.\n",
    "\n",
    "max_tries = 750000  # 10*largestComponent.number_of_edges()  * 3\n",
    "ensemble_size = 10  # Stats were ran on a much faster computer for 1000 graphs. 1000 is better\n",
    "clustering_DP = []\n",
    "short_path_DP = []\n",
    "\n",
    "for i in range(ensemble_size): \n",
    "    nx.double_edge_swap(DP, nswap=10*largestComponent.number_of_edges(), max_tries=max_tries)       # Swaps the edges\n",
    "    averageClustering_DP = np.mean(list(nx.clustering(DP).values()))                                # Calculate the average Clustering\n",
    "    if nx.is_connected(DP) == True:                                                          # If the graph is weakly connected          \n",
    "        averageShortestPath_DP = nx.average_shortest_path_length(DP, weight=None)                   # Calculate the Average Shortest Path\n",
    "        short_path_DP.append(averageShortestPath_DP)                                        # If the TA is reading this, there's a bug in Real World, should only append when it's able to calculate shorted path.\n",
    "    clustering_DP.append(averageClustering_DP)                                                      # Append average clustering\n",
    "    print(i)            # For running status\n",
    "\n",
    "\n",
    "print(\"DP - Average Clustering \" + str(np.mean(clustering_DP)))\n",
    "print(\"DP - Standard Deviation for Clustering \" + str(np.std(clustering_DP)))\n",
    "\n",
    "print(\"DP - Average Shortest Path \" + str(np.mean(short_path_DP)))\n",
    "print(\"DP - Standard Deviation for Shortest Path \" + str(np.std(short_path_DP)))"
   ]
  }
 ],
 "metadata": {
  "kernelspec": {
   "display_name": "Python 3.9.13 ('CPSC-572-Project-VENV': venv)",
   "language": "python",
   "name": "python3"
  },
  "language_info": {
   "codemirror_mode": {
    "name": "ipython",
    "version": 3
   },
   "file_extension": ".py",
   "mimetype": "text/x-python",
   "name": "python",
   "nbconvert_exporter": "python",
   "pygments_lexer": "ipython3",
   "version": "3.9.13"
  },
  "orig_nbformat": 4,
  "vscode": {
   "interpreter": {
    "hash": "b96b3bd5a0244be4734ec39d4805e0192b635b2730d284f6595833c2dd7a4f0a"
   }
  }
 },
 "nbformat": 4,
 "nbformat_minor": 2
}
