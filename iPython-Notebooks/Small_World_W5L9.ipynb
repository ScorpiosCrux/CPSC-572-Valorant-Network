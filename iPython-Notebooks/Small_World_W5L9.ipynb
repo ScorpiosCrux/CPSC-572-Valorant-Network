{
 "cells": [
  {
   "cell_type": "markdown",
   "id": "266d2543",
   "metadata": {},
   "source": [
    "# Imports"
   ]
  },
  {
   "cell_type": "code",
   "execution_count": 17,
   "id": "df0f0638",
   "metadata": {},
   "outputs": [],
   "source": [
    "import numpy as np\n",
    "import pandas as pd\n",
    "import networkx as nx\n",
    "import random\n",
    "import matplotlib.pyplot as plt\n",
    "import matplotlib as mpl\n",
    "import ast\n",
    "\n",
    "%matplotlib inline"
   ]
  },
  {
   "cell_type": "code",
   "execution_count": 18,
   "id": "1abb06a6",
   "metadata": {},
   "outputs": [],
   "source": [
    "# change defaults to be less ugly\n",
    "mpl.rc('xtick', labelsize=14, color=\"#222222\") \n",
    "mpl.rc('ytick', labelsize=14, color=\"#222222\") \n",
    "mpl.rc('font', **{'family':'sans-serif','sans-serif':['Arial']})\n",
    "mpl.rc('font', size=16)\n",
    "mpl.rc('xtick.major', size=6, width=1)\n",
    "mpl.rc('xtick.minor', size=3, width=1)\n",
    "mpl.rc('ytick.major', size=6, width=1)\n",
    "mpl.rc('ytick.minor', size=3, width=1)\n",
    "mpl.rc('axes', linewidth=1, edgecolor=\"#222222\", labelcolor=\"#222222\")\n",
    "mpl.rc('text', usetex=False, color=\"#222222\")"
   ]
  },
  {
   "cell_type": "code",
   "execution_count": 19,
   "id": "44c6a3ab",
   "metadata": {},
   "outputs": [],
   "source": [
    "# Function Defintions\n",
    "\n",
    "# Function to plot a degree distribution graph (P(k) vs k graph)\n",
    "def plot_degree_dist(G):\n",
    "    \n",
    "    degrees = [G.degree(n) for n in G.nodes()]\n",
    "    kmin = min(degrees)\n",
    "    kmax = max(degrees)\n",
    "    \n",
    "    if kmin>0:\n",
    "        bin_edges = np.logspace(np.log10(kmin), np.log10(kmax)+1, num=20)\n",
    "    else:\n",
    "        bin_edges = np.logspace(0, np.log10(kmax)+1, num=20)\n",
    "    density, _ = np.histogram(degrees, bins=bin_edges, density=True)\n",
    "\n",
    "    fig = plt.figure(figsize=(6,4))\n",
    "\n",
    "    log_be = np.log10(bin_edges)\n",
    "    x = 10**((log_be[1:] + log_be[:-1])/2)\n",
    "    plt.loglog(x, density, marker='o', linestyle='none')\n",
    "    plt.xlabel(r\"degree $k$\", fontsize=16)\n",
    "    plt.ylabel(r\"$P(k)$\", fontsize=16)\n",
    "\n",
    "    ax = plt.gca()\n",
    "    ax.spines['right'].set_visible(False)\n",
    "    ax.spines['top'].set_visible(False)\n",
    "    ax.yaxis.set_ticks_position('left')\n",
    "    ax.xaxis.set_ticks_position('bottom')"
   ]
  },
  {
   "cell_type": "markdown",
   "id": "952619a6",
   "metadata": {},
   "source": [
    "# 1. Testing the Kevin Bacon Theory"
   ]
  },
  {
   "cell_type": "markdown",
   "id": "a7ccf11c",
   "metadata": {},
   "source": [
    "### 1.1 Reading the TMDB 5000 Movie Credits Dataset\n",
    "\n",
    "This dataset has been collected from [Kaggle](https://www.kaggle.com/datasets/tmdb/tmdb-movie-metadata)."
   ]
  },
  {
   "cell_type": "code",
   "execution_count": 20,
   "id": "5de59ff3",
   "metadata": {},
   "outputs": [
    {
     "data": {
      "text/html": [
       "<div>\n",
       "<style scoped>\n",
       "    .dataframe tbody tr th:only-of-type {\n",
       "        vertical-align: middle;\n",
       "    }\n",
       "\n",
       "    .dataframe tbody tr th {\n",
       "        vertical-align: top;\n",
       "    }\n",
       "\n",
       "    .dataframe thead th {\n",
       "        text-align: right;\n",
       "    }\n",
       "</style>\n",
       "<table border=\"1\" class=\"dataframe\">\n",
       "  <thead>\n",
       "    <tr style=\"text-align: right;\">\n",
       "      <th></th>\n",
       "      <th>movie_id</th>\n",
       "      <th>title</th>\n",
       "      <th>cast</th>\n",
       "      <th>crew</th>\n",
       "    </tr>\n",
       "  </thead>\n",
       "  <tbody>\n",
       "    <tr>\n",
       "      <th>0</th>\n",
       "      <td>19995</td>\n",
       "      <td>Avatar</td>\n",
       "      <td>[{'cast_id': 242, 'character': 'Jake Sully', '...</td>\n",
       "      <td>[{\"credit_id\": \"52fe48009251416c750aca23\", \"de...</td>\n",
       "    </tr>\n",
       "    <tr>\n",
       "      <th>1</th>\n",
       "      <td>285</td>\n",
       "      <td>Pirates of the Caribbean: At World's End</td>\n",
       "      <td>[{'cast_id': 4, 'character': 'Captain Jack Spa...</td>\n",
       "      <td>[{\"credit_id\": \"52fe4232c3a36847f800b579\", \"de...</td>\n",
       "    </tr>\n",
       "    <tr>\n",
       "      <th>2</th>\n",
       "      <td>206647</td>\n",
       "      <td>Spectre</td>\n",
       "      <td>[{'cast_id': 1, 'character': 'James Bond', 'cr...</td>\n",
       "      <td>[{\"credit_id\": \"54805967c3a36829b5002c41\", \"de...</td>\n",
       "    </tr>\n",
       "    <tr>\n",
       "      <th>3</th>\n",
       "      <td>49026</td>\n",
       "      <td>The Dark Knight Rises</td>\n",
       "      <td>[{'cast_id': 2, 'character': 'Bruce Wayne / Ba...</td>\n",
       "      <td>[{\"credit_id\": \"52fe4781c3a36847f81398c3\", \"de...</td>\n",
       "    </tr>\n",
       "    <tr>\n",
       "      <th>4</th>\n",
       "      <td>49529</td>\n",
       "      <td>John Carter</td>\n",
       "      <td>[{'cast_id': 5, 'character': 'John Carter', 'c...</td>\n",
       "      <td>[{\"credit_id\": \"52fe479ac3a36847f813eaa3\", \"de...</td>\n",
       "    </tr>\n",
       "  </tbody>\n",
       "</table>\n",
       "</div>"
      ],
      "text/plain": [
       "   movie_id                                     title  \\\n",
       "0     19995                                    Avatar   \n",
       "1       285  Pirates of the Caribbean: At World's End   \n",
       "2    206647                                   Spectre   \n",
       "3     49026                     The Dark Knight Rises   \n",
       "4     49529                               John Carter   \n",
       "\n",
       "                                                cast  \\\n",
       "0  [{'cast_id': 242, 'character': 'Jake Sully', '...   \n",
       "1  [{'cast_id': 4, 'character': 'Captain Jack Spa...   \n",
       "2  [{'cast_id': 1, 'character': 'James Bond', 'cr...   \n",
       "3  [{'cast_id': 2, 'character': 'Bruce Wayne / Ba...   \n",
       "4  [{'cast_id': 5, 'character': 'John Carter', 'c...   \n",
       "\n",
       "                                                crew  \n",
       "0  [{\"credit_id\": \"52fe48009251416c750aca23\", \"de...  \n",
       "1  [{\"credit_id\": \"52fe4232c3a36847f800b579\", \"de...  \n",
       "2  [{\"credit_id\": \"54805967c3a36829b5002c41\", \"de...  \n",
       "3  [{\"credit_id\": \"52fe4781c3a36847f81398c3\", \"de...  \n",
       "4  [{\"credit_id\": \"52fe479ac3a36847f813eaa3\", \"de...  "
      ]
     },
     "execution_count": 20,
     "metadata": {},
     "output_type": "execute_result"
    }
   ],
   "source": [
    "df = pd.read_csv('tmdb_5000_credits.csv')\n",
    "df['cast'] = df.cast.apply(ast.literal_eval)\n",
    "df.head()"
   ]
  },
  {
   "cell_type": "markdown",
   "id": "165362ee",
   "metadata": {},
   "source": [
    "### 1.2 Constructing the network"
   ]
  },
  {
   "cell_type": "code",
   "execution_count": 21,
   "id": "2ce4b956",
   "metadata": {},
   "outputs": [],
   "source": [
    "G = nx.Graph()\n"
   ]
  },
  {
   "cell_type": "code",
   "execution_count": 22,
   "id": "3d929a82",
   "metadata": {},
   "outputs": [
    {
     "name": "stdout",
     "output_type": "stream",
     "text": [
      "0\n",
      "0\n"
     ]
    }
   ],
   "source": [
    "# Print the number of nodes and edges\n",
    "print(G.number_of_nodes())\n",
    "print(G.number_of_edges())\n",
    "\n",
    "# Is Actor's network connected graph\n",
    "# print(nx.is_connected(G))"
   ]
  },
  {
   "cell_type": "code",
   "execution_count": 23,
   "id": "1918b362",
   "metadata": {},
   "outputs": [],
   "source": [
    "# Let's plot the degree distribution\n",
    "\n",
    "# plot_degree_dist(G)"
   ]
  },
  {
   "cell_type": "markdown",
   "id": "07206424",
   "metadata": {},
   "source": [
    "### 1.3 Randomly select some actors"
   ]
  },
  {
   "cell_type": "code",
   "execution_count": null,
   "id": "258dce89",
   "metadata": {},
   "outputs": [],
   "source": []
  },
  {
   "cell_type": "markdown",
   "id": "d8ff46f7",
   "metadata": {},
   "source": [
    "### 1.4 Test the theory"
   ]
  },
  {
   "cell_type": "code",
   "execution_count": null,
   "id": "2baa87ec",
   "metadata": {},
   "outputs": [],
   "source": []
  },
  {
   "cell_type": "markdown",
   "id": "790793a1",
   "metadata": {},
   "source": [
    "### 1.5 Plotting the example above"
   ]
  },
  {
   "cell_type": "code",
   "execution_count": 29,
   "id": "cdc03876",
   "metadata": {},
   "outputs": [],
   "source": [
    "# Try plotting the part of the network tested above"
   ]
  },
  {
   "cell_type": "markdown",
   "id": "004c7189",
   "metadata": {},
   "source": [
    "# 2. How does the Actor’s Network compare to Random Networks?\n",
    "\n",
    "Hint: Since the graph here is not connected you can find the connected components and use the largest component to find the following properties:\n",
    "\n",
    "* Degree Distribution\n",
    "* Average Path Length\n",
    "* Clustering Coefficient\n",
    "\n",
    "Note: An obvious question would be why only analyzing the largest component is relevant. We'll go into more details on this in the next class on *Scale-Free Networks*"
   ]
  },
  {
   "cell_type": "code",
   "execution_count": 24,
   "id": "cffcb6ee",
   "metadata": {},
   "outputs": [],
   "source": [
    "def get_largest_subgraph(G):\n",
    "    components = nx.connected_components(G)\n",
    "    components = sorted(components, key=len, reverse=True)\n",
    "    for c in components:\n",
    "        G_sub = nx.subgraph(G, c)\n",
    "        if nx.is_connected(G_sub) == True:\n",
    "            return G_sub\n",
    "    \n",
    "#     Return a null graph as fallback/sanity\n",
    "    return nx.Graph()"
   ]
  },
  {
   "cell_type": "code",
   "execution_count": 25,
   "id": "75dc5aac",
   "metadata": {},
   "outputs": [],
   "source": [
    "# Get the largest subgraph\n",
    "\n",
    "# Print the number of nodes and degrees"
   ]
  },
  {
   "cell_type": "code",
   "execution_count": 26,
   "id": "b1231f23",
   "metadata": {},
   "outputs": [],
   "source": [
    "# Plot the degree distribution"
   ]
  },
  {
   "cell_type": "code",
   "execution_count": 27,
   "id": "f04aa694",
   "metadata": {},
   "outputs": [],
   "source": [
    "# Calculate the clustering coefficient and average path length\n",
    "\n"
   ]
  },
  {
   "cell_type": "markdown",
   "id": "000561c6",
   "metadata": {},
   "source": [
    "### 2.1 Compare the subgraph above to an ER network of same size"
   ]
  },
  {
   "cell_type": "code",
   "execution_count": null,
   "id": "dfa0cb2c",
   "metadata": {},
   "outputs": [],
   "source": []
  },
  {
   "cell_type": "markdown",
   "id": "4068a2c6",
   "metadata": {},
   "source": [
    "### 2.2 Now compare it to a degree preserving random network\n",
    "\n",
    "Hint: Use degree-preserving randomisation e.g., double edge swaps similar to the exercises of the *Real World Network* class"
   ]
  },
  {
   "cell_type": "code",
   "execution_count": null,
   "id": "b7aa0921",
   "metadata": {},
   "outputs": [],
   "source": []
  }
 ],
 "metadata": {
  "kernelspec": {
   "display_name": "Python 3.9.13 ('CPSC-572-Project-VENV': venv)",
   "language": "python",
   "name": "python3"
  },
  "language_info": {
   "codemirror_mode": {
    "name": "ipython",
    "version": 3
   },
   "file_extension": ".py",
   "mimetype": "text/x-python",
   "name": "python",
   "nbconvert_exporter": "python",
   "pygments_lexer": "ipython3",
   "version": "3.9.13"
  },
  "vscode": {
   "interpreter": {
    "hash": "b96b3bd5a0244be4734ec39d4805e0192b635b2730d284f6595833c2dd7a4f0a"
   }
  }
 },
 "nbformat": 4,
 "nbformat_minor": 5
}
