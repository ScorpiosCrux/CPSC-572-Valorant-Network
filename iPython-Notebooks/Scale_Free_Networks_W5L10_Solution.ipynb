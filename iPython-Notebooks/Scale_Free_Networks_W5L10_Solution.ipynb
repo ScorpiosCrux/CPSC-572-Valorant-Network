{
 "cells": [
  {
   "cell_type": "markdown",
   "id": "ec0dad88",
   "metadata": {},
   "source": [
    "# Imports"
   ]
  },
  {
   "cell_type": "code",
   "execution_count": 10,
   "id": "b6585a11",
   "metadata": {},
   "outputs": [],
   "source": [
    "import numpy as np\n",
    "import networkx as nx\n",
    "import matplotlib.pyplot as plt\n",
    "import matplotlib as mpl\n",
    "%matplotlib inline"
   ]
  },
  {
   "cell_type": "markdown",
   "id": "1263ff4e",
   "metadata": {},
   "source": [
    "# Scale Free Network Generator"
   ]
  },
  {
   "cell_type": "code",
   "execution_count": 11,
   "id": "35832c19",
   "metadata": {},
   "outputs": [],
   "source": [
    "def powerlaw_degree_sequence(n, gamma, k_min):\n",
    "    \"\"\" Implements the method for generating power-law distributed numbers\n",
    "    from uniformly-distributed numbers described in Clauset et al., 2009,\n",
    "    appendix D\"\"\"\n",
    "    r = np.random.uniform(0, 1, size=n)\n",
    "    deg = np.floor((k_min-0.5)*(1.0 - r)**(-1.0/(gamma-1)) + 0.5)\n",
    "    deg = list(map(int, deg))\n",
    "    return deg"
   ]
  },
  {
   "cell_type": "code",
   "execution_count": 12,
   "id": "32f467ed",
   "metadata": {},
   "outputs": [],
   "source": [
    "def sf_net(n,  gamma, k_min):\n",
    "    deg = powerlaw_degree_sequence(n, gamma, k_min)\n",
    "    # sum of all degrees must be even. Why is that?\n",
    "    if sum(deg) % 2 == 1:\n",
    "        deg[0] += 1\n",
    "    G = nx.configuration_model(deg)\n",
    "    H = nx.Graph(G)\n",
    "    H.remove_edges_from(nx.selfloop_edges(H))\n",
    "    return H"
   ]
  },
  {
   "cell_type": "markdown",
   "id": "19f17df7",
   "metadata": {},
   "source": [
    "# Hands-on exercise\n",
    "* Split into groups of two and pick different values of $\\gamma = 2.001, 2.5, 3$, and $3.5$ within the group\n",
    "* All groups should use the code above to generate networks of sizes $10^2 \\ldots 10^5$ as before with their chosen scaling exponent. Generate all networks with minimum degree cutoff $k_{min}$= 5"
   ]
  },
  {
   "cell_type": "markdown",
   "id": "69573f8c",
   "metadata": {},
   "source": [
    "### Tasks\n",
    "\n",
    "* First, measure the maximum degree of each network $k_{max}$, and then plot $k_{max}$ in log-log scale as a function of $N$ \n",
    "* Next, I want you to plot the average shortest-path distance as a function of $N$ in semi-log scale. \n",
    "* Note that for larger networks it will be impossible to measure all pairs shortest paths. As an approximation, you should take a random *sample* of pairs of nodes (src, dest), measure the shortest path length between src and dest, and then take the average. Use 100 random node pairs per network."
   ]
  },
  {
   "cell_type": "markdown",
   "id": "c52732be",
   "metadata": {},
   "source": [
    "### Hints\n",
    "\n",
    "* Hint 1: `[np.random.choice(G, size=2, replace=False) for _ in range(100)]` will give you a list of 100 random\n",
    "node pairs from G\n",
    "* Hint 2: You will need to run this within one component. Choose the largest. The following code will sort the components from largest to smallest\n",
    "\n",
    "`components = sorted(components, key=len, reverse=True)`\n",
    "\n",
    "You can then use the `subgraph` command on the first component (`components[0]`)\n",
    "* Hint 3: Use `nx.shortest_path_length` and `nx.connected_components`. They are more likely to be faster than what you might write."
   ]
  },
  {
   "cell_type": "code",
   "execution_count": 13,
   "id": "45a43a3b",
   "metadata": {},
   "outputs": [],
   "source": [
    "def max_degree(n, gamma, k_min):\n",
    "    return k_min * (n**(1.0/gamma-1.0))"
   ]
  },
  {
   "cell_type": "code",
   "execution_count": 14,
   "id": "b037974d",
   "metadata": {},
   "outputs": [],
   "source": [
    "gamma = 2.5\n",
    "n_list = [10**2, 10**3, 10**4, 10**5]\n",
    "k_min = 5"
   ]
  },
  {
   "cell_type": "code",
   "execution_count": 15,
   "id": "d30d359e",
   "metadata": {},
   "outputs": [
    {
     "name": "stdout",
     "output_type": "stream",
     "text": [
      "[0.3154786722400966, 0.07924465962305569, 0.019905358527674867, 0.005000000000000001]\n"
     ]
    }
   ],
   "source": [
    "k_max_list = list(map(lambda n: max_degree(n, gamma = 2.5, k_min=5), n_list))\n",
    "\n",
    "print(k_max_list)"
   ]
  },
  {
   "cell_type": "code",
   "execution_count": 16,
   "id": "aa72106c",
   "metadata": {},
   "outputs": [
    {
     "data": {
      "image/png": "[encoded data removed]",
      "text/plain": [
       "<Figure size 640x480 with 1 Axes>"
      ]
     },
     "metadata": {},
     "output_type": "display_data"
    }
   ],
   "source": [
    "plt.figure(1) \n",
    "\n",
    "plt.xlabel('N') \n",
    "plt.xscale('log') \n",
    "\n",
    "plt.ylabel('k_max')\n",
    "plt.yscale('log') \n",
    "\n",
    "plt.scatter(n_list, k_max_list, marker='.') \n",
    "plt.show()"
   ]
  },
  {
   "cell_type": "code",
   "execution_count": 17,
   "id": "5ef81a88",
   "metadata": {},
   "outputs": [],
   "source": [
    "def get_largest_subgraph(G):\n",
    "    components = nx.connected_components(G)\n",
    "    components = sorted(components, key=len, reverse=True)\n",
    "    for c in components:\n",
    "        G_sub = nx.subgraph(G, c)\n",
    "        if nx.is_connected(G_sub) == True:\n",
    "            return G_sub\n",
    "    \n",
    "#     Return a null graph as fallback/sanity\n",
    "    return nx.Graph()"
   ]
  },
  {
   "cell_type": "code",
   "execution_count": 18,
   "id": "9b81a3b4",
   "metadata": {},
   "outputs": [],
   "source": [
    "G_list = list(map(lambda n: sf_net(n, gamma=2.5, k_min=5), n_list))\n",
    "\n",
    "G_comp_list = list(map(lambda g: get_largest_subgraph(g), G_list))"
   ]
  },
  {
   "cell_type": "code",
   "execution_count": 19,
   "id": "5600c4d7",
   "metadata": {},
   "outputs": [],
   "source": [
    "\"\"\"\n",
    "We'll use this for calculating approx. avg shortest path for graphs with node more than 10^3\n",
    "as the NX avg shortest path util uses O(N^3) Floyd-Warshall for all-pair shortest path\n",
    "a graph of size 10^4 would take very long time to complete\n",
    "\"\"\"\n",
    "def get_large_graph_shortest_path(G):\n",
    "    node_pairs = [np.random.choice(G, size=2, replace=False) for _ in range(100)]\n",
    "    return np.mean(list(map(lambda n: nx.shortest_path_length(G, source=n[0], target=n[1]), node_pairs)))"
   ]
  },
  {
   "cell_type": "code",
   "execution_count": 20,
   "id": "e11e183e",
   "metadata": {},
   "outputs": [],
   "source": [
    "def get_avg_shortest_path(G):\n",
    "    node_no = G.number_of_nodes()\n",
    "    if node_no > 10**3:\n",
    "        return get_large_graph_shortest_path(G)\n",
    "    return nx.average_shortest_path_length(G)"
   ]
  },
  {
   "cell_type": "code",
   "execution_count": 21,
   "id": "c21fecfc",
   "metadata": {},
   "outputs": [
    {
     "name": "stdout",
     "output_type": "stream",
     "text": [
      "[2.3773737373737376, 2.2594154154154156, 3.11, 3.25]\n"
     ]
    }
   ],
   "source": [
    "sp_list = list(map(lambda g: get_avg_shortest_path(g), G_comp_list))\n",
    "\n",
    "print(sp_list)"
   ]
  },
  {
   "cell_type": "code",
   "execution_count": 22,
   "id": "2e0589ec",
   "metadata": {},
   "outputs": [
    {
     "data": {
      "image/png": "[encoded data removed]",
      "text/plain": [
       "<Figure size 640x480 with 1 Axes>"
      ]
     },
     "metadata": {},
     "output_type": "display_data"
    }
   ],
   "source": [
    "plt.figure(2)\n",
    "\n",
    "plt.semilogy(n_list, sp_list, linestyle='None') \n",
    "\n",
    "plt.xlabel('N')\n",
    "plt.ylabel('Avg. Shortest Path') \n",
    "\n",
    "plt.scatter(n_list, sp_list, marker='.')\n",
    "    \n",
    "plt.show()"
   ]
  },
  {
   "cell_type": "code",
   "execution_count": null,
   "id": "6c7f87f8",
   "metadata": {},
   "outputs": [],
   "source": []
  }
 ],
 "metadata": {
  "kernelspec": {
   "display_name": "Python 3.9.13 ('CPSC-572-Project-VENV': venv)",
   "language": "python",
   "name": "python3"
  },
  "language_info": {
   "codemirror_mode": {
    "name": "ipython",
    "version": 3
   },
   "file_extension": ".py",
   "mimetype": "text/x-python",
   "name": "python",
   "nbconvert_exporter": "python",
   "pygments_lexer": "ipython3",
   "version": "3.9.13"
  },
  "vscode": {
   "interpreter": {
    "hash": "b96b3bd5a0244be4734ec39d4805e0192b635b2730d284f6595833c2dd7a4f0a"
   }
  }
 },
 "nbformat": 4,
 "nbformat_minor": 5
}
