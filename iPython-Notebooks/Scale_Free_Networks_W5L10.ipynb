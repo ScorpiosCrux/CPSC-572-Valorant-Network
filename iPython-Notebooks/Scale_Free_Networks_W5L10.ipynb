{
 "cells": [
  {
   "cell_type": "markdown",
   "id": "8bf17cf8",
   "metadata": {},
   "source": [
    "# Imports"
   ]
  },
  {
   "cell_type": "code",
   "execution_count": 4,
   "id": "6b2d1cad",
   "metadata": {},
   "outputs": [],
   "source": [
    "import numpy as np\n",
    "import networkx as nx\n",
    "import matplotlib.pyplot as plt\n",
    "import matplotlib as mpl\n",
    "%matplotlib inline"
   ]
  },
  {
   "cell_type": "markdown",
   "id": "df6fccb4",
   "metadata": {},
   "source": [
    "# Scale Free Network Generator"
   ]
  },
  {
   "cell_type": "code",
   "execution_count": 5,
   "id": "5e44e098",
   "metadata": {},
   "outputs": [],
   "source": [
    "def powerlaw_degree_sequence(n, gamma, k_min):\n",
    "    \"\"\" Implements the method for generating power-law distributed numbers\n",
    "    from uniformly-distributed numbers described in Clauset et al., 2009,\n",
    "    appendix D\"\"\"\n",
    "    r = np.random.uniform(0, 1, size=n)\n",
    "    deg = np.floor((k_min-0.5)*(1.0 - r)**(-1.0/(gamma-1)) + 0.5)\n",
    "    deg = list(map(int, deg))\n",
    "    return deg"
   ]
  },
  {
   "cell_type": "code",
   "execution_count": 6,
   "id": "ad3fcfa1",
   "metadata": {},
   "outputs": [],
   "source": [
    "def sf_net(n,  gamma, k_min):\n",
    "    deg = powerlaw_degree_sequence(n, gamma, k_min)\n",
    "    # sum of all degrees must be even. Why is that?\n",
    "    if sum(deg) % 2 == 1:\n",
    "        deg[0] += 1\n",
    "    G = nx.configuration_model(deg)\n",
    "    H = nx.Graph(G)\n",
    "    H.remove_edges_from(nx.selfloop_edges(H))\n",
    "    return H"
   ]
  },
  {
   "cell_type": "markdown",
   "id": "d5dde1a9",
   "metadata": {},
   "source": [
    "# Hands-on exercise\n",
    "* Split into groups of two and pick different values of $\\gamma = 2.001, 2.5, 3$, and $3.5$ within the group\n",
    "* All groups should use the code above to generate networks of sizes $10^2 \\ldots 10^5$ as before with their chosen scaling exponent. Generate all networks with minimum degree cutoff $k_{min}$= 5"
   ]
  },
  {
   "cell_type": "markdown",
   "id": "00014352",
   "metadata": {},
   "source": [
    "### Tasks\n",
    "\n",
    "* First, measure the maximum degree of each network $k_{max}$, and then plot $k_{max}$ in log-log scale as a function of $N$ \n",
    "* Next, I want you to plot the average shortest-path distance as a function of $N$ in semi-log scale. \n",
    "* Note that for larger networks it will be impossible to measure all pairs shortest paths. As an approximation, you should take a random *sample* of pairs of nodes (src, dest), measure the shortest path length between src and dest, and then take the average. Use 100 random node pairs per network."
   ]
  },
  {
   "cell_type": "markdown",
   "id": "b09306c9",
   "metadata": {},
   "source": [
    "### Hints\n",
    "\n",
    "* Hint 1: `[np.random.choice(G, size=2, replace=False) for _ in range(100)]` will give you a list of 100 random\n",
    "node pairs from G\n",
    "* Hint 2: You will need to run this within one component. Choose the largest. The following code will sort the components from largest to smallest\n",
    "\n",
    "`components = sorted(components, key=len, reverse=True)`\n",
    "\n",
    "You can then use the `subgraph` command on the first component (`components[0]`)\n",
    "* Hint 3: Use `nx.shortest_path_length` and `nx.connected_components`. They are more likely to be faster than what you might write."
   ]
  },
  {
   "cell_type": "code",
   "execution_count": null,
   "id": "4d2b6335",
   "metadata": {},
   "outputs": [],
   "source": []
  },
  {
   "cell_type": "code",
   "execution_count": null,
   "id": "8fb6bb5a",
   "metadata": {},
   "outputs": [],
   "source": []
  }
 ],
 "metadata": {
  "kernelspec": {
   "display_name": "Python 3 (ipykernel)",
   "language": "python",
   "name": "python3"
  },
  "language_info": {
   "codemirror_mode": {
    "name": "ipython",
    "version": 3
   },
   "file_extension": ".py",
   "mimetype": "text/x-python",
   "name": "python",
   "nbconvert_exporter": "python",
   "pygments_lexer": "ipython3",
   "version": "3.9.7"
  }
 },
 "nbformat": 4,
 "nbformat_minor": 5
}
